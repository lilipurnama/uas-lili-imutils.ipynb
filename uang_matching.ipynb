{
 "cells": [
  {
   "cell_type": "code",
   "execution_count": null,
   "id": "72bb8dca",
   "metadata": {},
   "outputs": [
    {
     "name": "stdout",
     "output_type": "stream",
     "text": [
      "template loaded: ['template\\\\1000 (lama).jpg', 'template\\\\1000(baru).jpg', 'template\\\\2000(baru).jpg']\n",
      "money: 1000 (lama) detected\n"
     ]
    }
   ],
   "source": [
    "import glob\n",
    "import cv2 \n",
    "import numpy as np\n",
    "import imutils \n",
    "\n",
    "\n",
    "def uang_matching():\n",
    "    # load template\n",
    "    template_data = []\n",
    "    template_files = glob.glob('template/*.jpg', recursive=True)\n",
    "    print(\"template loaded:\", template_files)\n",
    "    # prepare template\n",
    "    for template_file in template_files:\n",
    "        tmp = cv2.imread(template_file)\n",
    "        tmp = imutils.resize(tmp, width=int(tmp.shape[1]*0.5))  # scalling\n",
    "        tmp = cv2.cvtColor(tmp, cv2.COLOR_BGR2GRAY)  # grayscale\n",
    "        kernel = np.array([[0, -1, 0], [-1, 5, -1], [0, -1, 0]])\n",
    "        tmp = cv2.filter2D(tmp, -1, kernel) #sharpening\n",
    "        tmp = cv2.blur(tmp, (3, 3))  # smoothing\n",
    "        tmp = cv2.Canny(tmp, 50, 200)  # Edge with Canny \n",
    "        nominal = template_file.replace('template\\\\', '').replace('.jpg', '')\n",
    "        template_data.append({\"glob\":tmp, \"nominal\":nominal})\n",
    "     \n",
    "    # template matching\n",
    "    for image_glob in glob.glob('test/*.jpg'):\n",
    "        for template in template_data:\n",
    "            image_test = cv2.imread(image_glob)\n",
    "            (tmp_height, tmp_width) = template['glob'].shape[:2]\n",
    "            cv2.imshow(\"Template\", template['glob'])  \n",
    "\n",
    "            image_test_p = cv2.cvtColor(image_test, cv2.COLOR_BGR2GRAY) \n",
    "            cv2.imshow(\"Step: Grayscal\", image_test_p) \n",
    "\n",
    "            image_test_p = cv2.Canny(image_test_p, 50, 200)\n",
    "            cv2.imshow(\"Step: edge with canny\", image_test_p) \n",
    "\n",
    "            found = None\n",
    "            thershold = 0.4\n",
    "            for scale in np.linspace(0.2, 1.0, 20)[::-1]: \n",
    "                # scalling uang\n",
    "                resized = imutils.resize(\n",
    "                    image_test_p, width=int(image_test_p.shape[1] * scale))\n",
    "                r = image_test_p.shape[1] / float(resized.shape[1]) \n",
    "                cv2.imshow(\"Step: rescale\", resized) \n",
    "                if resized.shape[0] < tmp_height or resized.shape[1] < tmp_width:\n",
    "                    break\n",
    "\n",
    "                # pencocokan template\n",
    "                result = cv2.matchTemplate(resized, template['glob'], cv2.TM_CCOEFF_NORMED)\n",
    "                (_, maxVal, _, maxLoc) = cv2.minMaxLoc(result)\n",
    "                if found is None or maxVal > found[0]:\n",
    "                    found = (maxVal, maxLoc, r)\n",
    "                    if maxVal >= thershold: \n",
    "                        print(\"money:\", template['nominal'], \"detected\")\n",
    "            if found is not None: \n",
    "                (maxVal, maxLoc, r) = found\n",
    "                (startX, startY) = (int(maxLoc[0]*r), int(maxLoc[1] * r))\n",
    "                (endX, endY) = (\n",
    "                    int((maxLoc[0] + tmp_width) * r), int((maxLoc[1] + tmp_height) * r))\n",
    "                if maxVal >= thershold:\n",
    "                    cv2.rectangle(image_test, (startX, startY),\n",
    "                                  (endX, endY), (0, 0, 255), 2)\n",
    "                cv2.imshow(\"Result\", image_test)\n",
    "\n",
    "            cv2.waitKey(0)\n",
    "\n",
    "\n",
    "if __name__ == \"__main__\": \n",
    "    uang_matching()\n"
   ]
  },
  {
   "cell_type": "code",
   "execution_count": null,
   "id": "2e8feb2d",
   "metadata": {},
   "outputs": [],
   "source": []
  },
  {
   "cell_type": "code",
   "execution_count": null,
   "id": "bd74f984",
   "metadata": {},
   "outputs": [],
   "source": []
  }
 ],
 "metadata": {
  "kernelspec": {
   "display_name": "Python 3",
   "language": "python",
   "name": "python3"
  },
  "language_info": {
   "codemirror_mode": {
    "name": "ipython",
    "version": 3
   },
   "file_extension": ".py",
   "mimetype": "text/x-python",
   "name": "python",
   "nbconvert_exporter": "python",
   "pygments_lexer": "ipython3",
   "version": "3.8.8"
  }
 },
 "nbformat": 4,
 "nbformat_minor": 5
}
